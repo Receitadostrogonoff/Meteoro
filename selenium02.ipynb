{
 "cells": [
  {
   "cell_type": "code",
   "execution_count": 37,
   "id": "79c9591e",
   "metadata": {},
   "outputs": [
    {
     "ename": "SyntaxError",
     "evalue": "invalid non-printable character U+00A0 (3023616531.py, line 12)",
     "output_type": "error",
     "traceback": [
      "\u001b[1;36m  Cell \u001b[1;32mIn[37], line 12\u001b[1;36m\u001b[0m\n\u001b[1;33m    prefs = {\"download.default_directory\" : \"C:\\Users\\leanderson\\Documents\\DataTable\"};\u001b[0m\n\u001b[1;37m         ^\u001b[0m\n\u001b[1;31mSyntaxError\u001b[0m\u001b[1;31m:\u001b[0m invalid non-printable character U+00A0\n"
     ]
    }
   ],
   "source": [
    "from selenium import webdriver\n",
    "from selenium.webdriver.common.by import By\n",
    "\n",
    "\n",
    "def test_eight_components():\n",
    "    driver = webdriver.Chrome()\n",
    "\n",
    "    driver.get(\"https://tempo.inmet.gov.br/4d0bca42-5628-4f44-9ef9-99a215e5a606\")\n",
    "\n",
    "\n",
    "prefs = {\"download.default_directory\" : \"C:\\Users\\leanderson\\Documents\\DataTable\"};\n",
    "\n",
    "options.add_experimental_option(\"prefs\",prefs);\n",
    "\n",
    "driver = webdriver.Chrome(executable_path='C:\\Users\\leanderson\\Documents\\Python Scripts\\Untitled Folder\\chromedriver.exe',chrome_options=options);\n",
    "\n",
    "try:\n",
    "\n",
    "    driver.get(\"https://tempo.inmet.gov.br/4d0bca42-5628-4f44-9ef9-99a215e5a606\");\n",
    "\n",
    "    downloadcsv= driver.find_element_by_css_selector('.teste-csv');\n",
    "\n",
    "    gotit= driver.find_element_by_id('accept-cookie-notification');,\n",
    "\n",
    "    gotit.click();    \n",
    "\n",
    "    downloadcsv.click();\n",
    "\n",
    "    time.sleep(5)\n",
    "\n",
    "    driver.close()"
   ]
  },
  {
   "cell_type": "code",
   "execution_count": 42,
   "id": "776f800a",
   "metadata": {},
   "outputs": [],
   "source": [
    "import time\n",
    "from selenium import webdriver\n",
    " \n",
    "driver = webdriver.Chrome()\n",
    " \n",
    "url = \"https://tempo.inmet.gov.br/TabelaEstacoes/A003\"\n",
    " \n",
    "driver.get(url)\n",
    " "
   ]
  }
 ],
 "metadata": {
  "kernelspec": {
   "display_name": "Python 3.10.7 64-bit",
   "language": "python",
   "name": "python3"
  },
  "language_info": {
   "codemirror_mode": {
    "name": "ipython",
    "version": 3
   },
   "file_extension": ".py",
   "mimetype": "text/x-python",
   "name": "python",
   "nbconvert_exporter": "python",
   "pygments_lexer": "ipython3",
   "version": "3.10.7"
  },
  "vscode": {
   "interpreter": {
    "hash": "edd04a1524f4d9ce2b88eff5a04a1de94893e7c67f0e212ef6fb72334739f6c5"
   }
  }
 },
 "nbformat": 4,
 "nbformat_minor": 5
}
